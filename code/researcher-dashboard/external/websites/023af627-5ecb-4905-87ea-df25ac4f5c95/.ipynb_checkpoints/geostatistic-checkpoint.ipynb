{
 "cells": [
  {
   "cell_type": "code",
   "execution_count": 1,
   "id": "d005415c",
   "metadata": {},
   "outputs": [],
   "source": [
    "# Author: Dr James K Ruffle\n",
    "# Email: j.ruffle@ucl.ac.uk"
   ]
  },
  {
   "cell_type": "code",
   "execution_count": 3,
   "id": "0b7708d2",
   "metadata": {},
   "outputs": [
    {
     "ename": "SystemError",
     "evalue": "initialization of _internal failed without raising an exception",
     "output_type": "error",
     "traceback": [
      "\u001b[0;31m---------------------------------------------------------------------------\u001b[0m",
      "\u001b[0;31mSystemError\u001b[0m                               Traceback (most recent call last)",
      "Input \u001b[0;32mIn [3]\u001b[0m, in \u001b[0;36m<cell line: 6>\u001b[0;34m()\u001b[0m\n\u001b[1;32m      4\u001b[0m \u001b[38;5;28;01mimport\u001b[39;00m \u001b[38;5;21;01mnumpy\u001b[39;00m \u001b[38;5;28;01mas\u001b[39;00m \u001b[38;5;21;01mnp\u001b[39;00m\n\u001b[1;32m      5\u001b[0m \u001b[38;5;28;01mfrom\u001b[39;00m \u001b[38;5;21;01mtqdm\u001b[39;00m \u001b[38;5;28;01mimport\u001b[39;00m tqdm\n\u001b[0;32m----> 6\u001b[0m \u001b[38;5;28;01mfrom\u001b[39;00m \u001b[38;5;21;01mhaversine\u001b[39;00m \u001b[38;5;28;01mimport\u001b[39;00m haversine, Unit\n\u001b[1;32m      8\u001b[0m \u001b[38;5;28;01mimport\u001b[39;00m \u001b[38;5;21;01mos\u001b[39;00m\n\u001b[1;32m      9\u001b[0m \u001b[38;5;28mprint\u001b[39m(os\u001b[38;5;241m.\u001b[39mgetcwd())\n",
      "File \u001b[0;32m~/opt/anaconda3/envs/linkmood/lib/python3.9/site-packages/haversine/__init__.py:1\u001b[0m, in \u001b[0;36m<module>\u001b[0;34m\u001b[0m\n\u001b[0;32m----> 1\u001b[0m \u001b[38;5;28;01mfrom\u001b[39;00m \u001b[38;5;21;01m.\u001b[39;00m\u001b[38;5;21;01mhaversine\u001b[39;00m \u001b[38;5;28;01mimport\u001b[39;00m Unit, haversine, haversine_vector, Direction, inverse_haversine, inverse_haversine_vector\n",
      "File \u001b[0;32m~/opt/anaconda3/envs/linkmood/lib/python3.9/site-packages/haversine/haversine.py:172\u001b[0m, in \u001b[0;36m<module>\u001b[0;34m\u001b[0m\n\u001b[1;32m    169\u001b[0m     has_numpy \u001b[38;5;241m=\u001b[39m \u001b[38;5;28;01mFalse\u001b[39;00m\n\u001b[1;32m    171\u001b[0m \u001b[38;5;28;01mtry\u001b[39;00m:\n\u001b[0;32m--> 172\u001b[0m     \u001b[38;5;28;01mimport\u001b[39;00m \u001b[38;5;21;01mnumba\u001b[39;00m \u001b[38;5;66;03m# type: ignore\u001b[39;00m\n\u001b[1;32m    173\u001b[0m     \u001b[38;5;28;01mif\u001b[39;00m has_numpy:\n\u001b[1;32m    174\u001b[0m         _haversine_kernel_vector \u001b[38;5;241m=\u001b[39m numba\u001b[38;5;241m.\u001b[39mvectorize(fastmath\u001b[38;5;241m=\u001b[39m\u001b[38;5;28;01mTrue\u001b[39;00m)(_haversine_kernel)\n",
      "File \u001b[0;32m~/opt/anaconda3/envs/linkmood/lib/python3.9/site-packages/numba-0.55.2-py3.9-macosx-10.9-x86_64.egg/numba/__init__.py:42\u001b[0m, in \u001b[0;36m<module>\u001b[0;34m\u001b[0m\n\u001b[1;32m     38\u001b[0m \u001b[38;5;28;01mfrom\u001b[39;00m \u001b[38;5;21;01mnumba\u001b[39;00m\u001b[38;5;21;01m.\u001b[39;00m\u001b[38;5;21;01mcore\u001b[39;00m\u001b[38;5;21;01m.\u001b[39;00m\u001b[38;5;21;01mdecorators\u001b[39;00m \u001b[38;5;28;01mimport\u001b[39;00m (cfunc, generated_jit, jit, njit, stencil,\n\u001b[1;32m     39\u001b[0m                                    jit_module)\n\u001b[1;32m     41\u001b[0m \u001b[38;5;66;03m# Re-export vectorize decorators and the thread layer querying function\u001b[39;00m\n\u001b[0;32m---> 42\u001b[0m \u001b[38;5;28;01mfrom\u001b[39;00m \u001b[38;5;21;01mnumba\u001b[39;00m\u001b[38;5;21;01m.\u001b[39;00m\u001b[38;5;21;01mnp\u001b[39;00m\u001b[38;5;21;01m.\u001b[39;00m\u001b[38;5;21;01mufunc\u001b[39;00m \u001b[38;5;28;01mimport\u001b[39;00m (vectorize, guvectorize, threading_layer,\n\u001b[1;32m     43\u001b[0m                             get_num_threads, set_num_threads)\n\u001b[1;32m     45\u001b[0m \u001b[38;5;66;03m# Re-export Numpy helpers\u001b[39;00m\n\u001b[1;32m     46\u001b[0m \u001b[38;5;28;01mfrom\u001b[39;00m \u001b[38;5;21;01mnumba\u001b[39;00m\u001b[38;5;21;01m.\u001b[39;00m\u001b[38;5;21;01mnp\u001b[39;00m\u001b[38;5;21;01m.\u001b[39;00m\u001b[38;5;21;01mnumpy_support\u001b[39;00m \u001b[38;5;28;01mimport\u001b[39;00m carray, farray, from_dtype\n",
      "File \u001b[0;32m~/opt/anaconda3/envs/linkmood/lib/python3.9/site-packages/numba-0.55.2-py3.9-macosx-10.9-x86_64.egg/numba/np/ufunc/__init__.py:3\u001b[0m, in \u001b[0;36m<module>\u001b[0;34m\u001b[0m\n\u001b[1;32m      1\u001b[0m \u001b[38;5;66;03m# -*- coding: utf-8 -*-\u001b[39;00m\n\u001b[0;32m----> 3\u001b[0m \u001b[38;5;28;01mfrom\u001b[39;00m \u001b[38;5;21;01mnumba\u001b[39;00m\u001b[38;5;21;01m.\u001b[39;00m\u001b[38;5;21;01mnp\u001b[39;00m\u001b[38;5;21;01m.\u001b[39;00m\u001b[38;5;21;01mufunc\u001b[39;00m\u001b[38;5;21;01m.\u001b[39;00m\u001b[38;5;21;01mdecorators\u001b[39;00m \u001b[38;5;28;01mimport\u001b[39;00m Vectorize, GUVectorize, vectorize, guvectorize\n\u001b[1;32m      4\u001b[0m \u001b[38;5;28;01mfrom\u001b[39;00m \u001b[38;5;21;01mnumba\u001b[39;00m\u001b[38;5;21;01m.\u001b[39;00m\u001b[38;5;21;01mnp\u001b[39;00m\u001b[38;5;21;01m.\u001b[39;00m\u001b[38;5;21;01mufunc\u001b[39;00m\u001b[38;5;21;01m.\u001b[39;00m\u001b[38;5;21;01m_internal\u001b[39;00m \u001b[38;5;28;01mimport\u001b[39;00m PyUFunc_None, PyUFunc_Zero, PyUFunc_One\n\u001b[1;32m      5\u001b[0m \u001b[38;5;28;01mfrom\u001b[39;00m \u001b[38;5;21;01mnumba\u001b[39;00m\u001b[38;5;21;01m.\u001b[39;00m\u001b[38;5;21;01mnp\u001b[39;00m\u001b[38;5;21;01m.\u001b[39;00m\u001b[38;5;21;01mufunc\u001b[39;00m \u001b[38;5;28;01mimport\u001b[39;00m _internal, array_exprs\n",
      "File \u001b[0;32m~/opt/anaconda3/envs/linkmood/lib/python3.9/site-packages/numba-0.55.2-py3.9-macosx-10.9-x86_64.egg/numba/np/ufunc/decorators.py:3\u001b[0m, in \u001b[0;36m<module>\u001b[0;34m\u001b[0m\n\u001b[1;32m      1\u001b[0m \u001b[38;5;28;01mimport\u001b[39;00m \u001b[38;5;21;01minspect\u001b[39;00m\n\u001b[0;32m----> 3\u001b[0m \u001b[38;5;28;01mfrom\u001b[39;00m \u001b[38;5;21;01mnumba\u001b[39;00m\u001b[38;5;21;01m.\u001b[39;00m\u001b[38;5;21;01mnp\u001b[39;00m\u001b[38;5;21;01m.\u001b[39;00m\u001b[38;5;21;01mufunc\u001b[39;00m \u001b[38;5;28;01mimport\u001b[39;00m _internal\n\u001b[1;32m      4\u001b[0m \u001b[38;5;28;01mfrom\u001b[39;00m \u001b[38;5;21;01mnumba\u001b[39;00m\u001b[38;5;21;01m.\u001b[39;00m\u001b[38;5;21;01mnp\u001b[39;00m\u001b[38;5;21;01m.\u001b[39;00m\u001b[38;5;21;01mufunc\u001b[39;00m\u001b[38;5;21;01m.\u001b[39;00m\u001b[38;5;21;01mparallel\u001b[39;00m \u001b[38;5;28;01mimport\u001b[39;00m ParallelUFuncBuilder, ParallelGUFuncBuilder\n\u001b[1;32m      6\u001b[0m \u001b[38;5;28;01mfrom\u001b[39;00m \u001b[38;5;21;01mnumba\u001b[39;00m\u001b[38;5;21;01m.\u001b[39;00m\u001b[38;5;21;01mcore\u001b[39;00m\u001b[38;5;21;01m.\u001b[39;00m\u001b[38;5;21;01mregistry\u001b[39;00m \u001b[38;5;28;01mimport\u001b[39;00m DelayedRegistry\n",
      "\u001b[0;31mSystemError\u001b[0m: initialization of _internal failed without raising an exception"
     ]
    }
   ],
   "source": [
    "import pandas as pd\n",
    "import plotly.express as px\n",
    "import geopandas as gpd\n",
    "import numpy as np\n",
    "from tqdm import tqdm\n",
    "from haversine import haversine, Unit\n",
    "\n",
    "import os\n",
    "print(os.getcwd())"
   ]
  },
  {
   "cell_type": "code",
   "execution_count": 3,
   "id": "81719120",
   "metadata": {},
   "outputs": [
    {
     "name": "stderr",
     "output_type": "stream",
     "text": [
      "/var/folders/sw/h3fq4qtj0jj9kh01vd62l8980000gn/T/ipykernel_34855/2708870602.py:1: DtypeWarning: Columns (15) have mixed types. Specify dtype option on import or set low_memory=False.\n",
      "  df = pd.read_csv('../simulated_data/simulated_data.csv',index_col=0)\n",
      "/var/folders/sw/h3fq4qtj0jj9kh01vd62l8980000gn/T/ipykernel_34855/2708870602.py:2: FutureWarning: The geopandas.dataset module is deprecated and will be removed in GeoPandas 1.0. You can get the original 'naturalearth_cities' data from https://www.naturalearthdata.com/downloads/110m-cultural-vectors/.\n",
      "  geo_df = gpd.read_file(gpd.datasets.get_path('naturalearth_cities'))\n"
     ]
    }
   ],
   "source": [
    "df = pd.read_csv('../simulated_data/simulated_data.csv',index_col=0)\n",
    "geo_df = gpd.read_file(gpd.datasets.get_path('naturalearth_cities'))\n",
    "token='pk.eyJ1IjoianJ1ZmZsZSIsImEiOiJjbGh1bWFrZWswMThnM2hyd2RrdzNndnNxIn0.JAGL1RE_mid-InPjlvx4hQ'\n",
    "px.set_mapbox_access_token(token)"
   ]
  },
  {
   "cell_type": "code",
   "execution_count": 4,
   "id": "7e6b3f24",
   "metadata": {},
   "outputs": [],
   "source": [
    "# Create a function to check proximity and group individuals\n",
    "def group_coordinates(df, distance):\n",
    "    groups = []\n",
    "    visited = set()\n",
    "\n",
    "    for i in range(len(df)):\n",
    "        if i not in visited:\n",
    "            group = [i]\n",
    "            visited.add(i)\n",
    "\n",
    "            for j in range(i + 1, len(df)):\n",
    "                if j not in visited:\n",
    "                    coord1 = (df['Latitude'].iloc[i], df['Longitude'].iloc[i])\n",
    "                    coord2 = (df['Latitude'].iloc[j], df['Longitude'].iloc[j])\n",
    "                    if haversine(coord1, coord2, unit=Unit.KILOMETERS) <= distance:\n",
    "                        group.append(j)\n",
    "                        visited.add(j)\n",
    "\n",
    "            groups.append(group)\n",
    "\n",
    "    return groups\n",
    "\n",
    "# Group individuals within Xkm of each other\n",
    "distance_threshold = 50\n",
    "groups = group_coordinates(df, distance_threshold)"
   ]
  },
  {
   "cell_type": "code",
   "execution_count": 5,
   "id": "4926ea8f",
   "metadata": {},
   "outputs": [
    {
     "name": "stderr",
     "output_type": "stream",
     "text": [
      "100%|█████████████████████████████████████████| 19/19 [00:00<00:00, 4864.00it/s]\n"
     ]
    }
   ],
   "source": [
    "grouped_individuals = pd.DataFrame(np.zeros(shape=(len(groups),3)),columns=['Latitude','Longitude','Patients'])\n",
    "\n",
    "for i, row in tqdm(grouped_individuals.iterrows(),total=grouped_individuals.shape[0]):\n",
    "  \n",
    "    density = len(groups[i])\n",
    "    \n",
    "    lat =0\n",
    "    long=0\n",
    "    \n",
    "    for d in range(density):\n",
    "        lat = lat + df.loc[groups[i][d],'Latitude']\n",
    "        long = long + df.loc[groups[i][d],'Longitude']\n",
    "    \n",
    "    lat /= density\n",
    "    long /=density\n",
    "    \n",
    "    grouped_individuals.loc[i,'Latitude']=lat\n",
    "    grouped_individuals.loc[i,'Longitude']=long\n",
    "    grouped_individuals.loc[i,'Patients']=density"
   ]
  },
  {
   "cell_type": "code",
   "execution_count": 6,
   "id": "40c5a7bc",
   "metadata": {},
   "outputs": [],
   "source": [
    "fig = px.density_mapbox(grouped_individuals, lat='Latitude', lon='Longitude', \n",
    "                        z='Patients',\n",
    "                        radius=40,\n",
    "                        zoom=5,\n",
    "#                         center=dict(lat=54, lon=-3),\n",
    "                        mapbox_style=\"satellite-streets\",\n",
    "#                         mapbox_style='outdoors',\n",
    "#                         mapbox_style='carto-positron',\n",
    "                       title='Geospatial distribution',\n",
    "                        range_color=(0,grouped_individuals['Patients'].max()/1.5)\n",
    "                       )\n",
    "\n",
    "fig.write_html('map_satellite_street.html')\n",
    "# fig.show()"
   ]
  },
  {
   "cell_type": "code",
   "execution_count": 7,
   "id": "19b48a15",
   "metadata": {},
   "outputs": [],
   "source": [
    "fig = px.density_mapbox(grouped_individuals, lat='Latitude', lon='Longitude', \n",
    "                        z='Patients',\n",
    "                        radius=40,\n",
    "                        zoom=5,\n",
    "#                         center=dict(lat=54, lon=-3),\n",
    "#                         mapbox_style=\"satellite-streets\",\n",
    "                        mapbox_style='outdoors',\n",
    "#                         mapbox_style='carto-positron',\n",
    "                       title='Geospatial distribution',\n",
    "                        range_color=(0,grouped_individuals['Patients'].max()/1.5)\n",
    "                       )\n",
    "\n",
    "fig.write_html('map_outdoors.html')\n",
    "# fig.show()"
   ]
  },
  {
   "cell_type": "code",
   "execution_count": 8,
   "id": "c4f55cc8",
   "metadata": {},
   "outputs": [],
   "source": [
    "fig = px.density_mapbox(grouped_individuals, lat='Latitude', lon='Longitude', \n",
    "                        z='Patients',\n",
    "                        radius=40,\n",
    "                        zoom=5,\n",
    "#                         center=dict(lat=54, lon=-3),\n",
    "#                         mapbox_style=\"satellite-streets\",\n",
    "#                         mapbox_style='outdoors',\n",
    "                        mapbox_style='carto-positron',\n",
    "                       title='Geospatial distribution',\n",
    "                        range_color=(0,grouped_individuals['Patients'].max()/1.5)\n",
    "                       )\n",
    "\n",
    "fig.write_html('map_carto-positron.html')\n",
    "# fig.show()"
   ]
  }
 ],
 "metadata": {
  "kernelspec": {
   "display_name": "linkmood",
   "language": "python",
   "name": "linkmood"
  },
  "language_info": {
   "codemirror_mode": {
    "name": "ipython",
    "version": 3
   },
   "file_extension": ".py",
   "mimetype": "text/x-python",
   "name": "python",
   "nbconvert_exporter": "python",
   "pygments_lexer": "ipython3",
   "version": "3.9.16"
  }
 },
 "nbformat": 4,
 "nbformat_minor": 5
}

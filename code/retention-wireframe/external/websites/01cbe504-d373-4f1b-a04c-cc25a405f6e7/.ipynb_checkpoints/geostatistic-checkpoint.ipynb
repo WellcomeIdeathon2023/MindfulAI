{
 "cells": [
  {
   "cell_type": "code",
   "execution_count": 1,
   "id": "d005415c",
   "metadata": {},
   "outputs": [],
   "source": [
    "# Author: Dr James K Ruffle\n",
    "# Email: j.ruffle@ucl.ac.uk"
   ]
  },
  {
   "cell_type": "code",
   "execution_count": 2,
   "id": "0b7708d2",
   "metadata": {},
   "outputs": [
    {
     "name": "stdout",
     "output_type": "stream",
     "text": [
      "/Users/jruffle/Library/CloudStorage/OneDrive-UniversityCollegeLondon/PhD/scripts_JKR/WellcomeHackathon/WIdeathonRetention23/code/dashboard_visualisations\n"
     ]
    }
   ],
   "source": [
    "import pandas as pd\n",
    "import plotly.express as px\n",
    "import geopandas as gpd\n",
    "import numpy as np\n",
    "from tqdm import tqdm\n",
    "from haversine import haversine, Unit\n",
    "\n",
    "import os\n",
    "print(os.getcwd())"
   ]
  },
  {
   "cell_type": "code",
   "execution_count": 3,
   "id": "81719120",
   "metadata": {},
   "outputs": [
    {
     "name": "stderr",
     "output_type": "stream",
     "text": [
      "/var/folders/sw/h3fq4qtj0jj9kh01vd62l8980000gn/T/ipykernel_74984/2708870602.py:1: DtypeWarning: Columns (17) have mixed types. Specify dtype option on import or set low_memory=False.\n",
      "  df = pd.read_csv('../simulated_data/simulated_data.csv',index_col=0)\n",
      "/var/folders/sw/h3fq4qtj0jj9kh01vd62l8980000gn/T/ipykernel_74984/2708870602.py:2: FutureWarning: The geopandas.dataset module is deprecated and will be removed in GeoPandas 1.0. You can get the original 'naturalearth_cities' data from https://www.naturalearthdata.com/downloads/110m-cultural-vectors/.\n",
      "  geo_df = gpd.read_file(gpd.datasets.get_path('naturalearth_cities'))\n"
     ]
    }
   ],
   "source": [
    "df = pd.read_csv('../simulated_data/simulated_data.csv',index_col=0)\n",
    "geo_df = gpd.read_file(gpd.datasets.get_path('naturalearth_cities'))\n",
    "token='pk.eyJ1IjoianJ1ZmZsZSIsImEiOiJjbGh1bWFrZWswMThnM2hyd2RrdzNndnNxIn0.JAGL1RE_mid-InPjlvx4hQ'\n",
    "px.set_mapbox_access_token(token)"
   ]
  },
  {
   "cell_type": "code",
   "execution_count": 4,
   "id": "7e6b3f24",
   "metadata": {},
   "outputs": [],
   "source": [
    "# Create a function to check proximity and group individuals\n",
    "def group_coordinates(df, distance):\n",
    "    groups = []\n",
    "    visited = set()\n",
    "\n",
    "    for i in range(len(df)):\n",
    "        if i not in visited:\n",
    "            group = [i]\n",
    "            visited.add(i)\n",
    "\n",
    "            for j in range(i + 1, len(df)):\n",
    "                if j not in visited:\n",
    "                    coord1 = (df['Latitude'].iloc[i], df['Longitude'].iloc[i])\n",
    "                    coord2 = (df['Latitude'].iloc[j], df['Longitude'].iloc[j])\n",
    "                    if haversine(coord1, coord2, unit=Unit.KILOMETERS) <= distance:\n",
    "                        group.append(j)\n",
    "                        visited.add(j)\n",
    "\n",
    "            groups.append(group)\n",
    "\n",
    "    return groups\n",
    "\n",
    "# Group individuals within Xkm of each other\n",
    "distance_threshold = 50\n",
    "groups = group_coordinates(df, distance_threshold)"
   ]
  },
  {
   "cell_type": "code",
   "execution_count": 5,
   "id": "4926ea8f",
   "metadata": {},
   "outputs": [
    {
     "name": "stderr",
     "output_type": "stream",
     "text": [
      "100%|█████████████████████████████████████████| 19/19 [00:00<00:00, 5359.59it/s]\n"
     ]
    }
   ],
   "source": [
    "grouped_individuals = pd.DataFrame(np.zeros(shape=(len(groups),3)),columns=['Latitude','Longitude','Patients'])\n",
    "\n",
    "for i, row in tqdm(grouped_individuals.iterrows(),total=grouped_individuals.shape[0]):\n",
    "  \n",
    "    density = len(groups[i])\n",
    "    \n",
    "    lat =0\n",
    "    long=0\n",
    "    \n",
    "    for d in range(density):\n",
    "        lat = lat + df.loc[groups[i][d],'Latitude']\n",
    "        long = long + df.loc[groups[i][d],'Longitude']\n",
    "    \n",
    "    lat /= density\n",
    "    long /=density\n",
    "    \n",
    "    grouped_individuals.loc[i,'Latitude']=lat\n",
    "    grouped_individuals.loc[i,'Longitude']=long\n",
    "    grouped_individuals.loc[i,'Patients']=density"
   ]
  },
  {
   "cell_type": "code",
   "execution_count": 6,
   "id": "40c5a7bc",
   "metadata": {},
   "outputs": [],
   "source": [
    "fig = px.density_mapbox(grouped_individuals, lat='Latitude', lon='Longitude', \n",
    "                        z='Patients',\n",
    "                        radius=40,\n",
    "                        zoom=5,\n",
    "#                         center=dict(lat=54, lon=-3),\n",
    "                        mapbox_style=\"satellite-streets\",\n",
    "#                         mapbox_style='outdoors',\n",
    "#                         mapbox_style='carto-positron',\n",
    "                       title='Geospatial distribution',\n",
    "                        range_color=(0,grouped_individuals['Patients'].max()/1.5)\n",
    "                       )\n",
    "\n",
    "fig.write_html('map_satellite_street.html')\n",
    "# fig.show()"
   ]
  },
  {
   "cell_type": "code",
   "execution_count": 7,
   "id": "19b48a15",
   "metadata": {},
   "outputs": [],
   "source": [
    "fig = px.density_mapbox(grouped_individuals, lat='Latitude', lon='Longitude', \n",
    "                        z='Patients',\n",
    "                        radius=40,\n",
    "                        zoom=5,\n",
    "#                         center=dict(lat=54, lon=-3),\n",
    "#                         mapbox_style=\"satellite-streets\",\n",
    "                        mapbox_style='outdoors',\n",
    "#                         mapbox_style='carto-positron',\n",
    "                       title='Geospatial distribution',\n",
    "                        range_color=(0,grouped_individuals['Patients'].max()/1.5)\n",
    "                       )\n",
    "\n",
    "fig.write_html('map_outdoors.html')\n",
    "# fig.show()"
   ]
  },
  {
   "cell_type": "code",
   "execution_count": 8,
   "id": "c4f55cc8",
   "metadata": {},
   "outputs": [],
   "source": [
    "fig = px.density_mapbox(grouped_individuals, lat='Latitude', lon='Longitude', \n",
    "                        z='Patients',\n",
    "                        radius=40,\n",
    "                        zoom=5,\n",
    "#                         center=dict(lat=54, lon=-3),\n",
    "#                         mapbox_style=\"satellite-streets\",\n",
    "#                         mapbox_style='outdoors',\n",
    "                        mapbox_style='carto-positron',\n",
    "                       title='Geospatial distribution',\n",
    "                        range_color=(0,grouped_individuals['Patients'].max()/1.5)\n",
    "                       )\n",
    "\n",
    "fig.write_html('map_carto-positron.html')\n",
    "# fig.show()"
   ]
  }
 ],
 "metadata": {
  "kernelspec": {
   "display_name": "Python 3 (ipykernel)",
   "language": "python",
   "name": "python3"
  },
  "language_info": {
   "codemirror_mode": {
    "name": "ipython",
    "version": 3
   },
   "file_extension": ".py",
   "mimetype": "text/x-python",
   "name": "python",
   "nbconvert_exporter": "python",
   "pygments_lexer": "ipython3",
   "version": "3.11.4"
  }
 },
 "nbformat": 4,
 "nbformat_minor": 5
}

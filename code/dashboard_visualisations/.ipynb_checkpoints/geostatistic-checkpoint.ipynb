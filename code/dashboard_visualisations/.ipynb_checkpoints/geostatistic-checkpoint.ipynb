{
 "cells": [
  {
   "cell_type": "code",
   "execution_count": 4,
   "id": "d005415c",
   "metadata": {},
   "outputs": [],
   "source": [
    "# Author: Dr James K Ruffle\n",
    "# Email: j.ruffle@ucl.ac.uk"
   ]
  },
  {
   "cell_type": "code",
   "execution_count": 5,
   "id": "0b7708d2",
   "metadata": {},
   "outputs": [
    {
     "name": "stdout",
     "output_type": "stream",
     "text": [
      "/Users/jruffle/Library/CloudStorage/OneDrive-UniversityCollegeLondon/PhD/WIdeathonRetention23/code/dashboard_visualisations\n"
     ]
    }
   ],
   "source": [
    "import pandas as pd\n",
    "import plotly.express as px\n",
    "import geopandas as gpd\n",
    "import numpy as np\n",
    "from tqdm import tqdm\n",
    "from haversine import haversine, Unit\n",
    "\n",
    "import os\n",
    "print(os.getcwd())"
   ]
  },
  {
   "cell_type": "code",
   "execution_count": 6,
   "id": "81719120",
   "metadata": {},
   "outputs": [
    {
     "name": "stderr",
     "output_type": "stream",
     "text": [
      "/var/folders/sw/h3fq4qtj0jj9kh01vd62l8980000gn/T/ipykernel_7698/2708870602.py:1: DtypeWarning: Columns (17) have mixed types. Specify dtype option on import or set low_memory=False.\n",
      "  df = pd.read_csv('../simulated_data/simulated_data.csv',index_col=0)\n",
      "/var/folders/sw/h3fq4qtj0jj9kh01vd62l8980000gn/T/ipykernel_7698/2708870602.py:2: FutureWarning: The geopandas.dataset module is deprecated and will be removed in GeoPandas 1.0. You can get the original 'naturalearth_cities' data from https://www.naturalearthdata.com/downloads/110m-cultural-vectors/.\n",
      "  geo_df = gpd.read_file(gpd.datasets.get_path('naturalearth_cities'))\n"
     ]
    }
   ],
   "source": [
    "df = pd.read_csv('../simulated_data/simulated_data.csv',index_col=0)\n",
    "geo_df = gpd.read_file(gpd.datasets.get_path('naturalearth_cities'))\n",
    "token='pk.eyJ1IjoianJ1ZmZsZSIsImEiOiJjbGh1bWFrZWswMThnM2hyd2RrdzNndnNxIn0.JAGL1RE_mid-InPjlvx4hQ'\n",
    "px.set_mapbox_access_token(token)"
   ]
  },
  {
   "cell_type": "code",
   "execution_count": 26,
   "id": "7e6b3f24",
   "metadata": {},
   "outputs": [],
   "source": [
    "# Create a function to check proximity and group individuals\n",
    "def group_coordinates(df, distance):\n",
    "    groups = []\n",
    "    visited = set()\n",
    "\n",
    "    for i in range(len(df)):\n",
    "        if i not in visited:\n",
    "            group = [i]\n",
    "            visited.add(i)\n",
    "\n",
    "            for j in range(i + 1, len(df)):\n",
    "                if j not in visited:\n",
    "                    coord1 = (df['Latitude'].iloc[i], df['Longitude'].iloc[i])\n",
    "                    coord2 = (df['Latitude'].iloc[j], df['Longitude'].iloc[j])\n",
    "                    if haversine(coord1, coord2, unit=Unit.KILOMETERS) <= distance:\n",
    "                        group.append(j)\n",
    "                        visited.add(j)\n",
    "\n",
    "            groups.append(group)\n",
    "\n",
    "    return groups\n",
    "\n",
    "# Group individuals within Xkm of each other\n",
    "distance_threshold = 50\n",
    "groups = group_coordinates(df, distance_threshold)"
   ]
  },
  {
   "cell_type": "code",
   "execution_count": 8,
   "id": "4926ea8f",
   "metadata": {},
   "outputs": [
    {
     "name": "stderr",
     "output_type": "stream",
     "text": [
      "100%|█████████████████████████████████████████| 19/19 [00:00<00:00, 3776.50it/s]\n"
     ]
    }
   ],
   "source": [
    "grouped_individuals = pd.DataFrame(np.zeros(shape=(len(groups),3)),columns=['Latitude','Longitude','Patients'])\n",
    "\n",
    "for i, row in tqdm(grouped_individuals.iterrows(),total=grouped_individuals.shape[0]):\n",
    "  \n",
    "    density = len(groups[i])\n",
    "    \n",
    "    lat =0\n",
    "    long=0\n",
    "    \n",
    "    for d in range(density):\n",
    "        lat = lat + df.loc[groups[i][d],'Latitude']\n",
    "        long = long + df.loc[groups[i][d],'Longitude']\n",
    "    \n",
    "    lat /= density\n",
    "    long /=density\n",
    "    \n",
    "    grouped_individuals.loc[i,'Latitude']=lat\n",
    "    grouped_individuals.loc[i,'Longitude']=long\n",
    "    grouped_individuals.loc[i,'Patients']=density"
   ]
  },
  {
   "cell_type": "code",
   "execution_count": 6,
   "id": "40c5a7bc",
   "metadata": {},
   "outputs": [],
   "source": [
    "fig = px.density_mapbox(grouped_individuals, lat='Latitude', lon='Longitude', \n",
    "                        z='Patients',\n",
    "                        radius=40,\n",
    "                        zoom=5,\n",
    "#                         center=dict(lat=54, lon=-3),\n",
    "                        mapbox_style=\"satellite-streets\",\n",
    "#                         mapbox_style='outdoors',\n",
    "#                         mapbox_style='carto-positron',\n",
    "                       title='Referrals: Geospatial distribution',\n",
    "                        range_color=(0,grouped_individuals['Patients'].max()/1.5)\n",
    "                       )\n",
    "\n",
    "fig.write_html('map_satellite_street.html')\n",
    "# fig.show()"
   ]
  },
  {
   "cell_type": "code",
   "execution_count": 7,
   "id": "19b48a15",
   "metadata": {},
   "outputs": [],
   "source": [
    "fig = px.density_mapbox(grouped_individuals, lat='Latitude', lon='Longitude', \n",
    "                        z='Patients',\n",
    "                        radius=40,\n",
    "                        zoom=5,\n",
    "#                         center=dict(lat=54, lon=-3),\n",
    "#                         mapbox_style=\"satellite-streets\",\n",
    "                        mapbox_style='outdoors',\n",
    "#                         mapbox_style='carto-positron',\n",
    "                       title='Referrals: Geospatial distribution',\n",
    "                        range_color=(0,grouped_individuals['Patients'].max()/1.5)\n",
    "                       )\n",
    "\n",
    "fig.write_html('map_outdoors.html')\n",
    "# fig.show()"
   ]
  },
  {
   "cell_type": "code",
   "execution_count": 8,
   "id": "c4f55cc8",
   "metadata": {},
   "outputs": [],
   "source": [
    "fig = px.density_mapbox(grouped_individuals, lat='Latitude', lon='Longitude', \n",
    "                        z='Patients',\n",
    "                        radius=40,\n",
    "                        zoom=5,\n",
    "#                         center=dict(lat=54, lon=-3),\n",
    "#                         mapbox_style=\"satellite-streets\",\n",
    "#                         mapbox_style='outdoors',\n",
    "                        mapbox_style='carto-positron',\n",
    "                       title='Referrals: Geospatial distribution',\n",
    "                        range_color=(0,grouped_individuals['Patients'].max()/1.5)\n",
    "                       )\n",
    "\n",
    "fig.write_html('map_carto-positron.html')\n",
    "# fig.show()"
   ]
  },
  {
   "cell_type": "code",
   "execution_count": 22,
   "id": "a2cf4905",
   "metadata": {},
   "outputs": [
    {
     "data": {
      "application/vnd.plotly.v1+json": {
       "config": {
        "plotlyServerURL": "https://plot.ly"
       },
       "data": [
        {
         "coloraxis": "coloraxis",
         "hovertemplate": "Total patient engagement points=%{z}<br>Latitude=%{lat}<br>Longitude=%{lon}<extra></extra>",
         "lat": [
          52.66277,
          51.40148,
          53.69786,
          55.82737,
          52.68333,
          53.19146,
          53.38333,
          50.11861,
          53.7446,
          51.62907,
          53.19146,
          53.19146,
          51.65,
          53.83333,
          52.41667,
          51.26,
          52.66277,
          53.0233,
          51.26,
          52.41667,
          55.82885,
          51.42708,
          51.35084,
          51.40148,
          53.49389,
          51.40148,
          53.78333,
          51.65,
          53.46506,
          52.68333,
          53.78333,
          51.39148,
          57.47908,
          57.14369,
          51.39148,
          52.68333,
          50.82882,
          52.41667,
          53.46506,
          53.00974,
          51.26,
          50.76306,
          51.26,
          53.69786,
          51.26,
          51.38673,
          52.66277,
          51.84819,
          51.40148,
          53.00974,
          53.83333,
          51.35084,
          57.47908,
          57.14369,
          53.19146,
          51.78967,
          53.19146,
          53.00974,
          53.00974,
          51.40148,
          51.78967,
          55.82737,
          53.69786,
          53.7446,
          53.0233,
          53.00974,
          51.39323,
          51.26,
          51.62907,
          53.00974,
          51.26,
          57.47908,
          53.19146,
          56.56317,
          53.38333,
          51.35084,
          50.79205,
          52.41667,
          53.81667,
          50.75767,
          52.41667,
          51.78967,
          51.40148,
          51.35084,
          51.39323,
          51.42708,
          51.26,
          53.78333,
          53.69786,
          57.47908,
          53.81667,
          53.49389,
          50.11861,
          50.76306,
          51.40148,
          51.38673,
          51.40148,
          52.68333,
          50.79205,
          53.46506,
          51.40148,
          55.82885,
          52.68333,
          55.82885,
          52.68333,
          55.82885,
          53.78333,
          51.65,
          53.78333,
          50.11861,
          51.62907,
          50.11861,
          53.0233,
          53.83333,
          53.0233,
          53.19146,
          50.7236,
          51.84819,
          57.47908,
          51.40148,
          51.78967,
          53.7446,
          52.41667,
          52.66277,
          52.68333,
          51.62907,
          50.76306,
          52.66277,
          51.62907,
          51.26,
          50.82882,
          53.38333,
          55.82737,
          57.47908,
          53.49389,
          52.66277,
          53.46506,
          50.75767,
          51.42708,
          50.75767,
          50.75767,
          53.00974,
          51.40148,
          50.7236,
          53.78333,
          51.38673,
          51.40148,
          50.75767,
          52.41667,
          53.46506
         ],
         "lon": [
          -2.01111,
          -1.32471,
          -2.68758,
          -4.0573,
          0.93333,
          -2.52398,
          -0.76667,
          -5.53715,
          -0.33525,
          -0.74934,
          -2.52398,
          -2.52398,
          -0.2,
          -2.98333,
          0.75,
          -2.1875,
          -2.01111,
          -1.48119,
          -2.1875,
          0.75,
          -4.21376,
          -0.91979,
          -1.99421,
          -1.32471,
          -1.29243,
          -1.32471,
          -1.06667,
          -0.2,
          -1.47217,
          0.93333,
          -1.06667,
          -0.29825,
          -4.22398,
          -2.09814,
          -0.29825,
          0.93333,
          -0.32247,
          0.75,
          -1.47217,
          -3.05814,
          -2.1875,
          -1.29772,
          -2.1875,
          -2.68758,
          -2.1875,
          0.30367,
          -2.01111,
          1.26738,
          -1.32471,
          -3.05814,
          -2.98333,
          -1.99421,
          -4.22398,
          -2.09814,
          -2.52398,
          1.15597,
          -2.52398,
          -3.05814,
          -3.05814,
          -1.32471,
          1.15597,
          -4.0573,
          -2.68758,
          -0.33525,
          -1.48119,
          -3.05814,
          0.47713,
          -2.1875,
          -0.74934,
          -3.05814,
          -2.1875,
          -4.22398,
          -2.52398,
          -2.58736,
          -0.76667,
          -1.99421,
          -1.08593,
          0.75,
          -3.05,
          -1.5443,
          0.75,
          1.15597,
          -1.32471,
          -1.99421,
          0.47713,
          -0.91979,
          -2.1875,
          -1.06667,
          -2.68758,
          -4.22398,
          -3.05,
          -1.29243,
          -5.53715,
          -1.29772,
          -1.32471,
          0.30367,
          -1.32471,
          0.93333,
          -1.08593,
          -1.47217,
          -1.32471,
          -4.21376,
          0.93333,
          -4.21376,
          0.93333,
          -4.21376,
          -1.06667,
          -0.2,
          -1.06667,
          -5.53715,
          -0.74934,
          -5.53715,
          -1.48119,
          -2.98333,
          -1.48119,
          -2.52398,
          -3.52751,
          1.26738,
          -4.22398,
          -1.32471,
          1.15597,
          -0.33525,
          0.75,
          -2.01111,
          0.93333,
          -0.74934,
          -1.29772,
          -2.01111,
          -0.74934,
          -2.1875,
          -0.32247,
          -0.76667,
          -4.0573,
          -4.22398,
          -1.29243,
          -2.01111,
          -1.47217,
          -1.5443,
          -0.91979,
          -1.5443,
          -1.5443,
          -3.05814,
          -1.32471,
          -3.52751,
          -1.06667,
          0.30367,
          -1.32471,
          -1.5443,
          0.75,
          -1.47217
         ],
         "name": "",
         "radius": 40,
         "subplot": "mapbox",
         "type": "densitymapbox",
         "z": [
          142360,
          171470,
          160600,
          159180,
          195920,
          159960,
          153910,
          190040,
          171560,
          144780,
          154360,
          150470,
          155030,
          163130,
          159770,
          183440,
          171250,
          133040,
          167430,
          147650,
          157040,
          192780,
          167220,
          183130,
          141680,
          159900,
          171830,
          146080,
          190640,
          191480,
          157230,
          158910,
          174570,
          156360,
          140170,
          200400,
          142350,
          147570,
          170510,
          173200,
          160720,
          154520,
          148970,
          188050,
          162310,
          146630,
          135970,
          174150,
          165490,
          178610,
          164790,
          160690,
          152270,
          145480,
          178680,
          171570,
          183870,
          172470,
          134140,
          179370,
          152760,
          164960,
          146030,
          184400,
          156930,
          184910,
          192830,
          156160,
          184520,
          150480,
          155100,
          181900,
          178550,
          170470,
          150880,
          169660,
          179350,
          157240,
          169760,
          164200,
          170730,
          136600,
          150290,
          131260,
          188660,
          130750,
          149120,
          162480,
          157790,
          156010,
          150080,
          156230,
          136700,
          133290,
          166060,
          157120,
          160260,
          171580,
          170800,
          139690,
          152570,
          115290,
          158470,
          157600,
          181420,
          164350,
          143900,
          156700,
          162570,
          152650,
          188920,
          162080,
          186150,
          142450,
          175900,
          173930,
          130000,
          134250,
          164500,
          159810,
          152510,
          173680,
          169960,
          169220,
          163150,
          136180,
          169230,
          173080,
          157160,
          161420,
          169100,
          168470,
          157150,
          153420,
          161520,
          187530,
          192760,
          154560,
          192210,
          198090,
          180700,
          167810,
          194010,
          154990,
          179800,
          161430,
          142040,
          127320,
          179980,
          136470
         ]
        }
       ],
       "layout": {
        "coloraxis": {
         "cmax": 400800,
         "cmin": 0,
         "colorbar": {
          "title": {
           "text": "Total patient engagement points"
          }
         },
         "colorscale": [
          [
           0,
           "#0d0887"
          ],
          [
           0.1111111111111111,
           "#46039f"
          ],
          [
           0.2222222222222222,
           "#7201a8"
          ],
          [
           0.3333333333333333,
           "#9c179e"
          ],
          [
           0.4444444444444444,
           "#bd3786"
          ],
          [
           0.5555555555555556,
           "#d8576b"
          ],
          [
           0.6666666666666666,
           "#ed7953"
          ],
          [
           0.7777777777777778,
           "#fb9f3a"
          ],
          [
           0.8888888888888888,
           "#fdca26"
          ],
          [
           1,
           "#f0f921"
          ]
         ]
        },
        "legend": {
         "tracegroupgap": 0
        },
        "mapbox": {
         "accesstoken": "pk.eyJ1IjoianJ1ZmZsZSIsImEiOiJjbGh1bWFrZWswMThnM2hyd2RrdzNndnNxIn0.JAGL1RE_mid-InPjlvx4hQ",
         "center": {
          "lat": 52.68186373333334,
          "lon": -1.5937082666666667
         },
         "domain": {
          "x": [
           0,
           1
          ],
          "y": [
           0,
           1
          ]
         },
         "style": "carto-positron",
         "zoom": 5
        },
        "template": {
         "data": {
          "bar": [
           {
            "error_x": {
             "color": "#2a3f5f"
            },
            "error_y": {
             "color": "#2a3f5f"
            },
            "marker": {
             "line": {
              "color": "#E5ECF6",
              "width": 0.5
             },
             "pattern": {
              "fillmode": "overlay",
              "size": 10,
              "solidity": 0.2
             }
            },
            "type": "bar"
           }
          ],
          "barpolar": [
           {
            "marker": {
             "line": {
              "color": "#E5ECF6",
              "width": 0.5
             },
             "pattern": {
              "fillmode": "overlay",
              "size": 10,
              "solidity": 0.2
             }
            },
            "type": "barpolar"
           }
          ],
          "carpet": [
           {
            "aaxis": {
             "endlinecolor": "#2a3f5f",
             "gridcolor": "white",
             "linecolor": "white",
             "minorgridcolor": "white",
             "startlinecolor": "#2a3f5f"
            },
            "baxis": {
             "endlinecolor": "#2a3f5f",
             "gridcolor": "white",
             "linecolor": "white",
             "minorgridcolor": "white",
             "startlinecolor": "#2a3f5f"
            },
            "type": "carpet"
           }
          ],
          "choropleth": [
           {
            "colorbar": {
             "outlinewidth": 0,
             "ticks": ""
            },
            "type": "choropleth"
           }
          ],
          "contour": [
           {
            "colorbar": {
             "outlinewidth": 0,
             "ticks": ""
            },
            "colorscale": [
             [
              0,
              "#0d0887"
             ],
             [
              0.1111111111111111,
              "#46039f"
             ],
             [
              0.2222222222222222,
              "#7201a8"
             ],
             [
              0.3333333333333333,
              "#9c179e"
             ],
             [
              0.4444444444444444,
              "#bd3786"
             ],
             [
              0.5555555555555556,
              "#d8576b"
             ],
             [
              0.6666666666666666,
              "#ed7953"
             ],
             [
              0.7777777777777778,
              "#fb9f3a"
             ],
             [
              0.8888888888888888,
              "#fdca26"
             ],
             [
              1,
              "#f0f921"
             ]
            ],
            "type": "contour"
           }
          ],
          "contourcarpet": [
           {
            "colorbar": {
             "outlinewidth": 0,
             "ticks": ""
            },
            "type": "contourcarpet"
           }
          ],
          "heatmap": [
           {
            "colorbar": {
             "outlinewidth": 0,
             "ticks": ""
            },
            "colorscale": [
             [
              0,
              "#0d0887"
             ],
             [
              0.1111111111111111,
              "#46039f"
             ],
             [
              0.2222222222222222,
              "#7201a8"
             ],
             [
              0.3333333333333333,
              "#9c179e"
             ],
             [
              0.4444444444444444,
              "#bd3786"
             ],
             [
              0.5555555555555556,
              "#d8576b"
             ],
             [
              0.6666666666666666,
              "#ed7953"
             ],
             [
              0.7777777777777778,
              "#fb9f3a"
             ],
             [
              0.8888888888888888,
              "#fdca26"
             ],
             [
              1,
              "#f0f921"
             ]
            ],
            "type": "heatmap"
           }
          ],
          "heatmapgl": [
           {
            "colorbar": {
             "outlinewidth": 0,
             "ticks": ""
            },
            "colorscale": [
             [
              0,
              "#0d0887"
             ],
             [
              0.1111111111111111,
              "#46039f"
             ],
             [
              0.2222222222222222,
              "#7201a8"
             ],
             [
              0.3333333333333333,
              "#9c179e"
             ],
             [
              0.4444444444444444,
              "#bd3786"
             ],
             [
              0.5555555555555556,
              "#d8576b"
             ],
             [
              0.6666666666666666,
              "#ed7953"
             ],
             [
              0.7777777777777778,
              "#fb9f3a"
             ],
             [
              0.8888888888888888,
              "#fdca26"
             ],
             [
              1,
              "#f0f921"
             ]
            ],
            "type": "heatmapgl"
           }
          ],
          "histogram": [
           {
            "marker": {
             "pattern": {
              "fillmode": "overlay",
              "size": 10,
              "solidity": 0.2
             }
            },
            "type": "histogram"
           }
          ],
          "histogram2d": [
           {
            "colorbar": {
             "outlinewidth": 0,
             "ticks": ""
            },
            "colorscale": [
             [
              0,
              "#0d0887"
             ],
             [
              0.1111111111111111,
              "#46039f"
             ],
             [
              0.2222222222222222,
              "#7201a8"
             ],
             [
              0.3333333333333333,
              "#9c179e"
             ],
             [
              0.4444444444444444,
              "#bd3786"
             ],
             [
              0.5555555555555556,
              "#d8576b"
             ],
             [
              0.6666666666666666,
              "#ed7953"
             ],
             [
              0.7777777777777778,
              "#fb9f3a"
             ],
             [
              0.8888888888888888,
              "#fdca26"
             ],
             [
              1,
              "#f0f921"
             ]
            ],
            "type": "histogram2d"
           }
          ],
          "histogram2dcontour": [
           {
            "colorbar": {
             "outlinewidth": 0,
             "ticks": ""
            },
            "colorscale": [
             [
              0,
              "#0d0887"
             ],
             [
              0.1111111111111111,
              "#46039f"
             ],
             [
              0.2222222222222222,
              "#7201a8"
             ],
             [
              0.3333333333333333,
              "#9c179e"
             ],
             [
              0.4444444444444444,
              "#bd3786"
             ],
             [
              0.5555555555555556,
              "#d8576b"
             ],
             [
              0.6666666666666666,
              "#ed7953"
             ],
             [
              0.7777777777777778,
              "#fb9f3a"
             ],
             [
              0.8888888888888888,
              "#fdca26"
             ],
             [
              1,
              "#f0f921"
             ]
            ],
            "type": "histogram2dcontour"
           }
          ],
          "mesh3d": [
           {
            "colorbar": {
             "outlinewidth": 0,
             "ticks": ""
            },
            "type": "mesh3d"
           }
          ],
          "parcoords": [
           {
            "line": {
             "colorbar": {
              "outlinewidth": 0,
              "ticks": ""
             }
            },
            "type": "parcoords"
           }
          ],
          "pie": [
           {
            "automargin": true,
            "type": "pie"
           }
          ],
          "scatter": [
           {
            "fillpattern": {
             "fillmode": "overlay",
             "size": 10,
             "solidity": 0.2
            },
            "type": "scatter"
           }
          ],
          "scatter3d": [
           {
            "line": {
             "colorbar": {
              "outlinewidth": 0,
              "ticks": ""
             }
            },
            "marker": {
             "colorbar": {
              "outlinewidth": 0,
              "ticks": ""
             }
            },
            "type": "scatter3d"
           }
          ],
          "scattercarpet": [
           {
            "marker": {
             "colorbar": {
              "outlinewidth": 0,
              "ticks": ""
             }
            },
            "type": "scattercarpet"
           }
          ],
          "scattergeo": [
           {
            "marker": {
             "colorbar": {
              "outlinewidth": 0,
              "ticks": ""
             }
            },
            "type": "scattergeo"
           }
          ],
          "scattergl": [
           {
            "marker": {
             "colorbar": {
              "outlinewidth": 0,
              "ticks": ""
             }
            },
            "type": "scattergl"
           }
          ],
          "scattermapbox": [
           {
            "marker": {
             "colorbar": {
              "outlinewidth": 0,
              "ticks": ""
             }
            },
            "type": "scattermapbox"
           }
          ],
          "scatterpolar": [
           {
            "marker": {
             "colorbar": {
              "outlinewidth": 0,
              "ticks": ""
             }
            },
            "type": "scatterpolar"
           }
          ],
          "scatterpolargl": [
           {
            "marker": {
             "colorbar": {
              "outlinewidth": 0,
              "ticks": ""
             }
            },
            "type": "scatterpolargl"
           }
          ],
          "scatterternary": [
           {
            "marker": {
             "colorbar": {
              "outlinewidth": 0,
              "ticks": ""
             }
            },
            "type": "scatterternary"
           }
          ],
          "surface": [
           {
            "colorbar": {
             "outlinewidth": 0,
             "ticks": ""
            },
            "colorscale": [
             [
              0,
              "#0d0887"
             ],
             [
              0.1111111111111111,
              "#46039f"
             ],
             [
              0.2222222222222222,
              "#7201a8"
             ],
             [
              0.3333333333333333,
              "#9c179e"
             ],
             [
              0.4444444444444444,
              "#bd3786"
             ],
             [
              0.5555555555555556,
              "#d8576b"
             ],
             [
              0.6666666666666666,
              "#ed7953"
             ],
             [
              0.7777777777777778,
              "#fb9f3a"
             ],
             [
              0.8888888888888888,
              "#fdca26"
             ],
             [
              1,
              "#f0f921"
             ]
            ],
            "type": "surface"
           }
          ],
          "table": [
           {
            "cells": {
             "fill": {
              "color": "#EBF0F8"
             },
             "line": {
              "color": "white"
             }
            },
            "header": {
             "fill": {
              "color": "#C8D4E3"
             },
             "line": {
              "color": "white"
             }
            },
            "type": "table"
           }
          ]
         },
         "layout": {
          "annotationdefaults": {
           "arrowcolor": "#2a3f5f",
           "arrowhead": 0,
           "arrowwidth": 1
          },
          "autotypenumbers": "strict",
          "coloraxis": {
           "colorbar": {
            "outlinewidth": 0,
            "ticks": ""
           }
          },
          "colorscale": {
           "diverging": [
            [
             0,
             "#8e0152"
            ],
            [
             0.1,
             "#c51b7d"
            ],
            [
             0.2,
             "#de77ae"
            ],
            [
             0.3,
             "#f1b6da"
            ],
            [
             0.4,
             "#fde0ef"
            ],
            [
             0.5,
             "#f7f7f7"
            ],
            [
             0.6,
             "#e6f5d0"
            ],
            [
             0.7,
             "#b8e186"
            ],
            [
             0.8,
             "#7fbc41"
            ],
            [
             0.9,
             "#4d9221"
            ],
            [
             1,
             "#276419"
            ]
           ],
           "sequential": [
            [
             0,
             "#0d0887"
            ],
            [
             0.1111111111111111,
             "#46039f"
            ],
            [
             0.2222222222222222,
             "#7201a8"
            ],
            [
             0.3333333333333333,
             "#9c179e"
            ],
            [
             0.4444444444444444,
             "#bd3786"
            ],
            [
             0.5555555555555556,
             "#d8576b"
            ],
            [
             0.6666666666666666,
             "#ed7953"
            ],
            [
             0.7777777777777778,
             "#fb9f3a"
            ],
            [
             0.8888888888888888,
             "#fdca26"
            ],
            [
             1,
             "#f0f921"
            ]
           ],
           "sequentialminus": [
            [
             0,
             "#0d0887"
            ],
            [
             0.1111111111111111,
             "#46039f"
            ],
            [
             0.2222222222222222,
             "#7201a8"
            ],
            [
             0.3333333333333333,
             "#9c179e"
            ],
            [
             0.4444444444444444,
             "#bd3786"
            ],
            [
             0.5555555555555556,
             "#d8576b"
            ],
            [
             0.6666666666666666,
             "#ed7953"
            ],
            [
             0.7777777777777778,
             "#fb9f3a"
            ],
            [
             0.8888888888888888,
             "#fdca26"
            ],
            [
             1,
             "#f0f921"
            ]
           ]
          },
          "colorway": [
           "#636efa",
           "#EF553B",
           "#00cc96",
           "#ab63fa",
           "#FFA15A",
           "#19d3f3",
           "#FF6692",
           "#B6E880",
           "#FF97FF",
           "#FECB52"
          ],
          "font": {
           "color": "#2a3f5f"
          },
          "geo": {
           "bgcolor": "white",
           "lakecolor": "white",
           "landcolor": "#E5ECF6",
           "showlakes": true,
           "showland": true,
           "subunitcolor": "white"
          },
          "hoverlabel": {
           "align": "left"
          },
          "hovermode": "closest",
          "mapbox": {
           "style": "light"
          },
          "paper_bgcolor": "white",
          "plot_bgcolor": "#E5ECF6",
          "polar": {
           "angularaxis": {
            "gridcolor": "white",
            "linecolor": "white",
            "ticks": ""
           },
           "bgcolor": "#E5ECF6",
           "radialaxis": {
            "gridcolor": "white",
            "linecolor": "white",
            "ticks": ""
           }
          },
          "scene": {
           "xaxis": {
            "backgroundcolor": "#E5ECF6",
            "gridcolor": "white",
            "gridwidth": 2,
            "linecolor": "white",
            "showbackground": true,
            "ticks": "",
            "zerolinecolor": "white"
           },
           "yaxis": {
            "backgroundcolor": "#E5ECF6",
            "gridcolor": "white",
            "gridwidth": 2,
            "linecolor": "white",
            "showbackground": true,
            "ticks": "",
            "zerolinecolor": "white"
           },
           "zaxis": {
            "backgroundcolor": "#E5ECF6",
            "gridcolor": "white",
            "gridwidth": 2,
            "linecolor": "white",
            "showbackground": true,
            "ticks": "",
            "zerolinecolor": "white"
           }
          },
          "shapedefaults": {
           "line": {
            "color": "#2a3f5f"
           }
          },
          "ternary": {
           "aaxis": {
            "gridcolor": "white",
            "linecolor": "white",
            "ticks": ""
           },
           "baxis": {
            "gridcolor": "white",
            "linecolor": "white",
            "ticks": ""
           },
           "bgcolor": "#E5ECF6",
           "caxis": {
            "gridcolor": "white",
            "linecolor": "white",
            "ticks": ""
           }
          },
          "title": {
           "x": 0.05
          },
          "xaxis": {
           "automargin": true,
           "gridcolor": "white",
           "linecolor": "white",
           "ticks": "",
           "title": {
            "standoff": 15
           },
           "zerolinecolor": "white",
           "zerolinewidth": 2
          },
          "yaxis": {
           "automargin": true,
           "gridcolor": "white",
           "linecolor": "white",
           "ticks": "",
           "title": {
            "standoff": 15
           },
           "zerolinecolor": "white",
           "zerolinewidth": 2
          }
         }
        },
        "title": {
         "text": "Patient engagement: Geospatial distribution"
        }
       }
      },
      "text/html": [
       "<div>                            <div id=\"c8e232f7-d1e9-47f8-a92b-8b3b2c0c4ea3\" class=\"plotly-graph-div\" style=\"height:525px; width:100%;\"></div>            <script type=\"text/javascript\">                require([\"plotly\"], function(Plotly) {                    window.PLOTLYENV=window.PLOTLYENV || {};                                    if (document.getElementById(\"c8e232f7-d1e9-47f8-a92b-8b3b2c0c4ea3\")) {                    Plotly.newPlot(                        \"c8e232f7-d1e9-47f8-a92b-8b3b2c0c4ea3\",                        [{\"coloraxis\":\"coloraxis\",\"hovertemplate\":\"Total patient engagement points=%{z}\\u003cbr\\u003eLatitude=%{lat}\\u003cbr\\u003eLongitude=%{lon}\\u003cextra\\u003e\\u003c\\u002fextra\\u003e\",\"lat\":[52.66277,51.40148,53.69786,55.82737,52.68333,53.19146,53.38333,50.11861,53.7446,51.62907,53.19146,53.19146,51.65,53.83333,52.41667,51.26,52.66277,53.0233,51.26,52.41667,55.82885,51.42708,51.35084,51.40148,53.49389,51.40148,53.78333,51.65,53.46506,52.68333,53.78333,51.39148,57.47908,57.14369,51.39148,52.68333,50.82882,52.41667,53.46506,53.00974,51.26,50.76306,51.26,53.69786,51.26,51.38673,52.66277,51.84819,51.40148,53.00974,53.83333,51.35084,57.47908,57.14369,53.19146,51.78967,53.19146,53.00974,53.00974,51.40148,51.78967,55.82737,53.69786,53.7446,53.0233,53.00974,51.39323,51.26,51.62907,53.00974,51.26,57.47908,53.19146,56.56317,53.38333,51.35084,50.79205,52.41667,53.81667,50.75767,52.41667,51.78967,51.40148,51.35084,51.39323,51.42708,51.26,53.78333,53.69786,57.47908,53.81667,53.49389,50.11861,50.76306,51.40148,51.38673,51.40148,52.68333,50.79205,53.46506,51.40148,55.82885,52.68333,55.82885,52.68333,55.82885,53.78333,51.65,53.78333,50.11861,51.62907,50.11861,53.0233,53.83333,53.0233,53.19146,50.7236,51.84819,57.47908,51.40148,51.78967,53.7446,52.41667,52.66277,52.68333,51.62907,50.76306,52.66277,51.62907,51.26,50.82882,53.38333,55.82737,57.47908,53.49389,52.66277,53.46506,50.75767,51.42708,50.75767,50.75767,53.00974,51.40148,50.7236,53.78333,51.38673,51.40148,50.75767,52.41667,53.46506],\"lon\":[-2.01111,-1.32471,-2.68758,-4.0573,0.93333,-2.52398,-0.76667,-5.53715,-0.33525,-0.74934,-2.52398,-2.52398,-0.2,-2.98333,0.75,-2.1875,-2.01111,-1.48119,-2.1875,0.75,-4.21376,-0.91979,-1.99421,-1.32471,-1.29243,-1.32471,-1.06667,-0.2,-1.47217,0.93333,-1.06667,-0.29825,-4.22398,-2.09814,-0.29825,0.93333,-0.32247,0.75,-1.47217,-3.05814,-2.1875,-1.29772,-2.1875,-2.68758,-2.1875,0.30367,-2.01111,1.26738,-1.32471,-3.05814,-2.98333,-1.99421,-4.22398,-2.09814,-2.52398,1.15597,-2.52398,-3.05814,-3.05814,-1.32471,1.15597,-4.0573,-2.68758,-0.33525,-1.48119,-3.05814,0.47713,-2.1875,-0.74934,-3.05814,-2.1875,-4.22398,-2.52398,-2.58736,-0.76667,-1.99421,-1.08593,0.75,-3.05,-1.5443,0.75,1.15597,-1.32471,-1.99421,0.47713,-0.91979,-2.1875,-1.06667,-2.68758,-4.22398,-3.05,-1.29243,-5.53715,-1.29772,-1.32471,0.30367,-1.32471,0.93333,-1.08593,-1.47217,-1.32471,-4.21376,0.93333,-4.21376,0.93333,-4.21376,-1.06667,-0.2,-1.06667,-5.53715,-0.74934,-5.53715,-1.48119,-2.98333,-1.48119,-2.52398,-3.52751,1.26738,-4.22398,-1.32471,1.15597,-0.33525,0.75,-2.01111,0.93333,-0.74934,-1.29772,-2.01111,-0.74934,-2.1875,-0.32247,-0.76667,-4.0573,-4.22398,-1.29243,-2.01111,-1.47217,-1.5443,-0.91979,-1.5443,-1.5443,-3.05814,-1.32471,-3.52751,-1.06667,0.30367,-1.32471,-1.5443,0.75,-1.47217],\"name\":\"\",\"radius\":40,\"subplot\":\"mapbox\",\"z\":[142360.0,171470.0,160600.0,159180.0,195920.0,159960.0,153910.0,190040.0,171560.0,144780.0,154360.0,150470.0,155030.0,163130.0,159770.0,183440.0,171250.0,133040.0,167430.0,147650.0,157040.0,192780.0,167220.0,183130.0,141680.0,159900.0,171830.0,146080.0,190640.0,191480.0,157230.0,158910.0,174570.0,156360.0,140170.0,200400.0,142350.0,147570.0,170510.0,173200.0,160720.0,154520.0,148970.0,188050.0,162310.0,146630.0,135970.0,174150.0,165490.0,178610.0,164790.0,160690.0,152270.0,145480.0,178680.0,171570.0,183870.0,172470.0,134140.0,179370.0,152760.0,164960.0,146030.0,184400.0,156930.0,184910.0,192830.0,156160.0,184520.0,150480.0,155100.0,181900.0,178550.0,170470.0,150880.0,169660.0,179350.0,157240.0,169760.0,164200.0,170730.0,136600.0,150290.0,131260.0,188660.0,130750.0,149120.0,162480.0,157790.0,156010.0,150080.0,156230.0,136700.0,133290.0,166060.0,157120.0,160260.0,171580.0,170800.0,139690.0,152570.0,115290.0,158470.0,157600.0,181420.0,164350.0,143900.0,156700.0,162570.0,152650.0,188920.0,162080.0,186150.0,142450.0,175900.0,173930.0,130000.0,134250.0,164500.0,159810.0,152510.0,173680.0,169960.0,169220.0,163150.0,136180.0,169230.0,173080.0,157160.0,161420.0,169100.0,168470.0,157150.0,153420.0,161520.0,187530.0,192760.0,154560.0,192210.0,198090.0,180700.0,167810.0,194010.0,154990.0,179800.0,161430.0,142040.0,127320.0,179980.0,136470.0],\"type\":\"densitymapbox\"}],                        {\"template\":{\"data\":{\"histogram2dcontour\":[{\"type\":\"histogram2dcontour\",\"colorbar\":{\"outlinewidth\":0,\"ticks\":\"\"},\"colorscale\":[[0.0,\"#0d0887\"],[0.1111111111111111,\"#46039f\"],[0.2222222222222222,\"#7201a8\"],[0.3333333333333333,\"#9c179e\"],[0.4444444444444444,\"#bd3786\"],[0.5555555555555556,\"#d8576b\"],[0.6666666666666666,\"#ed7953\"],[0.7777777777777778,\"#fb9f3a\"],[0.8888888888888888,\"#fdca26\"],[1.0,\"#f0f921\"]]}],\"choropleth\":[{\"type\":\"choropleth\",\"colorbar\":{\"outlinewidth\":0,\"ticks\":\"\"}}],\"histogram2d\":[{\"type\":\"histogram2d\",\"colorbar\":{\"outlinewidth\":0,\"ticks\":\"\"},\"colorscale\":[[0.0,\"#0d0887\"],[0.1111111111111111,\"#46039f\"],[0.2222222222222222,\"#7201a8\"],[0.3333333333333333,\"#9c179e\"],[0.4444444444444444,\"#bd3786\"],[0.5555555555555556,\"#d8576b\"],[0.6666666666666666,\"#ed7953\"],[0.7777777777777778,\"#fb9f3a\"],[0.8888888888888888,\"#fdca26\"],[1.0,\"#f0f921\"]]}],\"heatmap\":[{\"type\":\"heatmap\",\"colorbar\":{\"outlinewidth\":0,\"ticks\":\"\"},\"colorscale\":[[0.0,\"#0d0887\"],[0.1111111111111111,\"#46039f\"],[0.2222222222222222,\"#7201a8\"],[0.3333333333333333,\"#9c179e\"],[0.4444444444444444,\"#bd3786\"],[0.5555555555555556,\"#d8576b\"],[0.6666666666666666,\"#ed7953\"],[0.7777777777777778,\"#fb9f3a\"],[0.8888888888888888,\"#fdca26\"],[1.0,\"#f0f921\"]]}],\"heatmapgl\":[{\"type\":\"heatmapgl\",\"colorbar\":{\"outlinewidth\":0,\"ticks\":\"\"},\"colorscale\":[[0.0,\"#0d0887\"],[0.1111111111111111,\"#46039f\"],[0.2222222222222222,\"#7201a8\"],[0.3333333333333333,\"#9c179e\"],[0.4444444444444444,\"#bd3786\"],[0.5555555555555556,\"#d8576b\"],[0.6666666666666666,\"#ed7953\"],[0.7777777777777778,\"#fb9f3a\"],[0.8888888888888888,\"#fdca26\"],[1.0,\"#f0f921\"]]}],\"contourcarpet\":[{\"type\":\"contourcarpet\",\"colorbar\":{\"outlinewidth\":0,\"ticks\":\"\"}}],\"contour\":[{\"type\":\"contour\",\"colorbar\":{\"outlinewidth\":0,\"ticks\":\"\"},\"colorscale\":[[0.0,\"#0d0887\"],[0.1111111111111111,\"#46039f\"],[0.2222222222222222,\"#7201a8\"],[0.3333333333333333,\"#9c179e\"],[0.4444444444444444,\"#bd3786\"],[0.5555555555555556,\"#d8576b\"],[0.6666666666666666,\"#ed7953\"],[0.7777777777777778,\"#fb9f3a\"],[0.8888888888888888,\"#fdca26\"],[1.0,\"#f0f921\"]]}],\"surface\":[{\"type\":\"surface\",\"colorbar\":{\"outlinewidth\":0,\"ticks\":\"\"},\"colorscale\":[[0.0,\"#0d0887\"],[0.1111111111111111,\"#46039f\"],[0.2222222222222222,\"#7201a8\"],[0.3333333333333333,\"#9c179e\"],[0.4444444444444444,\"#bd3786\"],[0.5555555555555556,\"#d8576b\"],[0.6666666666666666,\"#ed7953\"],[0.7777777777777778,\"#fb9f3a\"],[0.8888888888888888,\"#fdca26\"],[1.0,\"#f0f921\"]]}],\"mesh3d\":[{\"type\":\"mesh3d\",\"colorbar\":{\"outlinewidth\":0,\"ticks\":\"\"}}],\"scatter\":[{\"fillpattern\":{\"fillmode\":\"overlay\",\"size\":10,\"solidity\":0.2},\"type\":\"scatter\"}],\"parcoords\":[{\"type\":\"parcoords\",\"line\":{\"colorbar\":{\"outlinewidth\":0,\"ticks\":\"\"}}}],\"scatterpolargl\":[{\"type\":\"scatterpolargl\",\"marker\":{\"colorbar\":{\"outlinewidth\":0,\"ticks\":\"\"}}}],\"bar\":[{\"error_x\":{\"color\":\"#2a3f5f\"},\"error_y\":{\"color\":\"#2a3f5f\"},\"marker\":{\"line\":{\"color\":\"#E5ECF6\",\"width\":0.5},\"pattern\":{\"fillmode\":\"overlay\",\"size\":10,\"solidity\":0.2}},\"type\":\"bar\"}],\"scattergeo\":[{\"type\":\"scattergeo\",\"marker\":{\"colorbar\":{\"outlinewidth\":0,\"ticks\":\"\"}}}],\"scatterpolar\":[{\"type\":\"scatterpolar\",\"marker\":{\"colorbar\":{\"outlinewidth\":0,\"ticks\":\"\"}}}],\"histogram\":[{\"marker\":{\"pattern\":{\"fillmode\":\"overlay\",\"size\":10,\"solidity\":0.2}},\"type\":\"histogram\"}],\"scattergl\":[{\"type\":\"scattergl\",\"marker\":{\"colorbar\":{\"outlinewidth\":0,\"ticks\":\"\"}}}],\"scatter3d\":[{\"type\":\"scatter3d\",\"line\":{\"colorbar\":{\"outlinewidth\":0,\"ticks\":\"\"}},\"marker\":{\"colorbar\":{\"outlinewidth\":0,\"ticks\":\"\"}}}],\"scattermapbox\":[{\"type\":\"scattermapbox\",\"marker\":{\"colorbar\":{\"outlinewidth\":0,\"ticks\":\"\"}}}],\"scatterternary\":[{\"type\":\"scatterternary\",\"marker\":{\"colorbar\":{\"outlinewidth\":0,\"ticks\":\"\"}}}],\"scattercarpet\":[{\"type\":\"scattercarpet\",\"marker\":{\"colorbar\":{\"outlinewidth\":0,\"ticks\":\"\"}}}],\"carpet\":[{\"aaxis\":{\"endlinecolor\":\"#2a3f5f\",\"gridcolor\":\"white\",\"linecolor\":\"white\",\"minorgridcolor\":\"white\",\"startlinecolor\":\"#2a3f5f\"},\"baxis\":{\"endlinecolor\":\"#2a3f5f\",\"gridcolor\":\"white\",\"linecolor\":\"white\",\"minorgridcolor\":\"white\",\"startlinecolor\":\"#2a3f5f\"},\"type\":\"carpet\"}],\"table\":[{\"cells\":{\"fill\":{\"color\":\"#EBF0F8\"},\"line\":{\"color\":\"white\"}},\"header\":{\"fill\":{\"color\":\"#C8D4E3\"},\"line\":{\"color\":\"white\"}},\"type\":\"table\"}],\"barpolar\":[{\"marker\":{\"line\":{\"color\":\"#E5ECF6\",\"width\":0.5},\"pattern\":{\"fillmode\":\"overlay\",\"size\":10,\"solidity\":0.2}},\"type\":\"barpolar\"}],\"pie\":[{\"automargin\":true,\"type\":\"pie\"}]},\"layout\":{\"autotypenumbers\":\"strict\",\"colorway\":[\"#636efa\",\"#EF553B\",\"#00cc96\",\"#ab63fa\",\"#FFA15A\",\"#19d3f3\",\"#FF6692\",\"#B6E880\",\"#FF97FF\",\"#FECB52\"],\"font\":{\"color\":\"#2a3f5f\"},\"hovermode\":\"closest\",\"hoverlabel\":{\"align\":\"left\"},\"paper_bgcolor\":\"white\",\"plot_bgcolor\":\"#E5ECF6\",\"polar\":{\"bgcolor\":\"#E5ECF6\",\"angularaxis\":{\"gridcolor\":\"white\",\"linecolor\":\"white\",\"ticks\":\"\"},\"radialaxis\":{\"gridcolor\":\"white\",\"linecolor\":\"white\",\"ticks\":\"\"}},\"ternary\":{\"bgcolor\":\"#E5ECF6\",\"aaxis\":{\"gridcolor\":\"white\",\"linecolor\":\"white\",\"ticks\":\"\"},\"baxis\":{\"gridcolor\":\"white\",\"linecolor\":\"white\",\"ticks\":\"\"},\"caxis\":{\"gridcolor\":\"white\",\"linecolor\":\"white\",\"ticks\":\"\"}},\"coloraxis\":{\"colorbar\":{\"outlinewidth\":0,\"ticks\":\"\"}},\"colorscale\":{\"sequential\":[[0.0,\"#0d0887\"],[0.1111111111111111,\"#46039f\"],[0.2222222222222222,\"#7201a8\"],[0.3333333333333333,\"#9c179e\"],[0.4444444444444444,\"#bd3786\"],[0.5555555555555556,\"#d8576b\"],[0.6666666666666666,\"#ed7953\"],[0.7777777777777778,\"#fb9f3a\"],[0.8888888888888888,\"#fdca26\"],[1.0,\"#f0f921\"]],\"sequentialminus\":[[0.0,\"#0d0887\"],[0.1111111111111111,\"#46039f\"],[0.2222222222222222,\"#7201a8\"],[0.3333333333333333,\"#9c179e\"],[0.4444444444444444,\"#bd3786\"],[0.5555555555555556,\"#d8576b\"],[0.6666666666666666,\"#ed7953\"],[0.7777777777777778,\"#fb9f3a\"],[0.8888888888888888,\"#fdca26\"],[1.0,\"#f0f921\"]],\"diverging\":[[0,\"#8e0152\"],[0.1,\"#c51b7d\"],[0.2,\"#de77ae\"],[0.3,\"#f1b6da\"],[0.4,\"#fde0ef\"],[0.5,\"#f7f7f7\"],[0.6,\"#e6f5d0\"],[0.7,\"#b8e186\"],[0.8,\"#7fbc41\"],[0.9,\"#4d9221\"],[1,\"#276419\"]]},\"xaxis\":{\"gridcolor\":\"white\",\"linecolor\":\"white\",\"ticks\":\"\",\"title\":{\"standoff\":15},\"zerolinecolor\":\"white\",\"automargin\":true,\"zerolinewidth\":2},\"yaxis\":{\"gridcolor\":\"white\",\"linecolor\":\"white\",\"ticks\":\"\",\"title\":{\"standoff\":15},\"zerolinecolor\":\"white\",\"automargin\":true,\"zerolinewidth\":2},\"scene\":{\"xaxis\":{\"backgroundcolor\":\"#E5ECF6\",\"gridcolor\":\"white\",\"linecolor\":\"white\",\"showbackground\":true,\"ticks\":\"\",\"zerolinecolor\":\"white\",\"gridwidth\":2},\"yaxis\":{\"backgroundcolor\":\"#E5ECF6\",\"gridcolor\":\"white\",\"linecolor\":\"white\",\"showbackground\":true,\"ticks\":\"\",\"zerolinecolor\":\"white\",\"gridwidth\":2},\"zaxis\":{\"backgroundcolor\":\"#E5ECF6\",\"gridcolor\":\"white\",\"linecolor\":\"white\",\"showbackground\":true,\"ticks\":\"\",\"zerolinecolor\":\"white\",\"gridwidth\":2}},\"shapedefaults\":{\"line\":{\"color\":\"#2a3f5f\"}},\"annotationdefaults\":{\"arrowcolor\":\"#2a3f5f\",\"arrowhead\":0,\"arrowwidth\":1},\"geo\":{\"bgcolor\":\"white\",\"landcolor\":\"#E5ECF6\",\"subunitcolor\":\"white\",\"showland\":true,\"showlakes\":true,\"lakecolor\":\"white\"},\"title\":{\"x\":0.05},\"mapbox\":{\"style\":\"light\"}}},\"mapbox\":{\"domain\":{\"x\":[0.0,1.0],\"y\":[0.0,1.0]},\"center\":{\"lat\":52.68186373333334,\"lon\":-1.5937082666666667},\"accesstoken\":\"pk.eyJ1IjoianJ1ZmZsZSIsImEiOiJjbGh1bWFrZWswMThnM2hyd2RrdzNndnNxIn0.JAGL1RE_mid-InPjlvx4hQ\",\"zoom\":5,\"style\":\"carto-positron\"},\"coloraxis\":{\"colorbar\":{\"title\":{\"text\":\"Total patient engagement points\"}},\"colorscale\":[[0.0,\"#0d0887\"],[0.1111111111111111,\"#46039f\"],[0.2222222222222222,\"#7201a8\"],[0.3333333333333333,\"#9c179e\"],[0.4444444444444444,\"#bd3786\"],[0.5555555555555556,\"#d8576b\"],[0.6666666666666666,\"#ed7953\"],[0.7777777777777778,\"#fb9f3a\"],[0.8888888888888888,\"#fdca26\"],[1.0,\"#f0f921\"]],\"cmin\":0,\"cmax\":400800.0},\"legend\":{\"tracegroupgap\":0},\"title\":{\"text\":\"Patient engagement: Geospatial distribution\"}},                        {\"responsive\": true}                    ).then(function(){\n",
       "                            \n",
       "var gd = document.getElementById('c8e232f7-d1e9-47f8-a92b-8b3b2c0c4ea3');\n",
       "var x = new MutationObserver(function (mutations, observer) {{\n",
       "        var display = window.getComputedStyle(gd).display;\n",
       "        if (!display || display === 'none') {{\n",
       "            console.log([gd, 'removed!']);\n",
       "            Plotly.purge(gd);\n",
       "            observer.disconnect();\n",
       "        }}\n",
       "}});\n",
       "\n",
       "// Listen for the removal of the full notebook cells\n",
       "var notebookContainer = gd.closest('#notebook-container');\n",
       "if (notebookContainer) {{\n",
       "    x.observe(notebookContainer, {childList: true});\n",
       "}}\n",
       "\n",
       "// Listen for the clearing of the current output cell\n",
       "var outputEl = gd.closest('.output');\n",
       "if (outputEl) {{\n",
       "    x.observe(outputEl, {childList: true});\n",
       "}}\n",
       "\n",
       "                        })                };                });            </script>        </div>"
      ]
     },
     "metadata": {},
     "output_type": "display_data"
    }
   ],
   "source": [
    "df.rename(columns={'Total points':'Total patient engagement points'},inplace=True)\n",
    "fig = px.density_mapbox(df, lat='Latitude', lon='Longitude', \n",
    "                        z='Total patient engagement points',\n",
    "                        radius=40,\n",
    "                        zoom=5,\n",
    "#                         center=dict(lat=54, lon=-3),\n",
    "#                         mapbox_style=\"satellite-streets\",\n",
    "#                         mapbox_style='outdoors',\n",
    "                        mapbox_style='carto-positron',\n",
    "                       title='Patient engagement: Geospatial distribution',\n",
    "                        range_color=(0,df['Total patient engagement points'].max()*2)\n",
    "                       )\n",
    "\n",
    "fig.write_html('map_carto-positron_patient_engagement.html')\n",
    "fig.show()"
   ]
  }
 ],
 "metadata": {
  "kernelspec": {
   "display_name": "Python 3 (ipykernel)",
   "language": "python",
   "name": "python3"
  },
  "language_info": {
   "codemirror_mode": {
    "name": "ipython",
    "version": 3
   },
   "file_extension": ".py",
   "mimetype": "text/x-python",
   "name": "python",
   "nbconvert_exporter": "python",
   "pygments_lexer": "ipython3",
   "version": "3.11.4"
  }
 },
 "nbformat": 4,
 "nbformat_minor": 5
}
